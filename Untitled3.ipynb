{
 "cells": [
  {
   "cell_type": "code",
   "execution_count": 2,
   "metadata": {},
   "outputs": [
    {
     "name": "stdout",
     "output_type": "stream",
     "text": [
      "2\n",
      "3\n",
      "x=2.00\n",
      "y=3.00\n",
      "add=5.00\n",
      "subtract=-1.00\n",
      "\n"
     ]
    }
   ],
   "source": [
    "x=int(input())\n",
    "y=int(input())\n",
    "r=\"\"\"x={:.2f}\n",
    "y={:.2f}\n",
    "add={:.2f}\n",
    "subtract={:.2f}\n",
    "\"\"\".format(x,y,x+y,x-y)\n",
    "print(r)\n"
   ]
  },
  {
   "cell_type": "code",
   "execution_count": 3,
   "metadata": {},
   "outputs": [
    {
     "name": "stdout",
     "output_type": "stream",
     "text": [
      "enter x=2\n",
      "enter y=3\n",
      "\n",
      "x=2\n",
      "y=3\n",
      "x=5\n",
      "x-y=-1\n",
      "x*y=6\n",
      "\n"
     ]
    }
   ],
   "source": [
    "x=eval(input(\"enter x=\"))\n",
    "y=eval(input(\"enter y=\"))\n",
    "s=f\"\"\"\n",
    "x={x}\n",
    "y={y}\n",
    "x={x+y}\n",
    "x-y={x-y}\n",
    "x*y={x*y}\n",
    "\"\"\"\n",
    "print(s)"
   ]
  },
  {
   "cell_type": "code",
   "execution_count": null,
   "metadata": {},
   "outputs": [],
   "source": [
    " "
   ]
  }
 ],
 "metadata": {
  "kernelspec": {
   "display_name": "Python 3",
   "language": "python",
   "name": "python3"
  },
  "language_info": {
   "codemirror_mode": {
    "name": "ipython",
    "version": 3
   },
   "file_extension": ".py",
   "mimetype": "text/x-python",
   "name": "python",
   "nbconvert_exporter": "python",
   "pygments_lexer": "ipython3",
   "version": "3.7.3"
  }
 },
 "nbformat": 4,
 "nbformat_minor": 2
}
